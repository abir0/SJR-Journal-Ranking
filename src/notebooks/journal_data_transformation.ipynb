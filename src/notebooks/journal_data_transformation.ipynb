{
  "nbformat": 4,
  "nbformat_minor": 0,
  "metadata": {
    "colab": {
      "provenance": [],
      "collapsed_sections": [
        "Qk5XrSugyR0o",
        "jEnEyoosyEeC",
        "4-VW61WOyL9S"
      ],
      "toc_visible": true
    },
    "kernelspec": {
      "name": "python3",
      "display_name": "Python 3"
    },
    "language_info": {
      "name": "python"
    }
  },
  "cells": [
    {
      "cell_type": "markdown",
      "source": [
        "This is a notebook for data processing. This notebook loads the scraped data from CSV files, transforms and combines the data from different sources into one DataFrame object and saves the final dataset as a CSV file.\n",
        "\n",
        "Project Repo: [SJR-Journal-Ranking](https://github.com/abir0/SJR-Journal-Ranking)"
      ],
      "metadata": {
        "id": "AV6aPbzLSfbN"
      }
    },
    {
      "cell_type": "markdown",
      "source": [
        "# Data Transformation"
      ],
      "metadata": {
        "id": "vtFasD1iyPKt"
      }
    },
    {
      "cell_type": "markdown",
      "source": [
        "### Setup"
      ],
      "metadata": {
        "id": "otusX_G6TqtE"
      }
    },
    {
      "cell_type": "code",
      "source": [
        "import numpy as np\n",
        "import pandas as pd"
      ],
      "metadata": {
        "id": "bCPxmnC4x94q"
      },
      "execution_count": null,
      "outputs": []
    },
    {
      "cell_type": "code",
      "execution_count": null,
      "metadata": {
        "id": "QEP9WmpLvVk4"
      },
      "outputs": [],
      "source": [
        "!gdown --id 1wxZYJh72U0SjMYhD2cnNBzcAmj3iifhr\n",
        "!gdown --id 1hs9H-jcwwnUlxPKwM4X13mc02wVy0iNN\n",
        "!gdown --id 1RJqeJiI5ks2WtEwuR9rKf10TS5ccbJvT"
      ]
    },
    {
      "cell_type": "markdown",
      "source": [
        "### SJR Data Transform"
      ],
      "metadata": {
        "id": "NVfofWFpzZD2"
      }
    },
    {
      "cell_type": "code",
      "source": [
        "sjr_df = pd.read_csv(\"/content/sjr_journal_ranking_2022.csv\")"
      ],
      "metadata": {
        "id": "VwZgdi3wyRPt"
      },
      "execution_count": null,
      "outputs": []
    },
    {
      "cell_type": "code",
      "source": [
        "sjr_df.columns"
      ],
      "metadata": {
        "id": "AhkjDbaCzQZr"
      },
      "execution_count": null,
      "outputs": []
    },
    {
      "cell_type": "markdown",
      "source": [
        "Remove duplicates and null values"
      ],
      "metadata": {
        "id": "zoPzCErpUidT"
      }
    },
    {
      "cell_type": "code",
      "source": [
        "sjr_df.duplicated().sum()"
      ],
      "metadata": {
        "id": "p9jGUzh0zsea"
      },
      "execution_count": null,
      "outputs": []
    },
    {
      "cell_type": "code",
      "source": [
        "sjr_df.isnull().sum()"
      ],
      "metadata": {
        "id": "JOSMTInkzoZa"
      },
      "execution_count": null,
      "outputs": []
    },
    {
      "cell_type": "code",
      "source": [
        "sjr_df.dropna(inplace=True)"
      ],
      "metadata": {
        "id": "Dntu7JA_0V8u"
      },
      "execution_count": null,
      "outputs": []
    },
    {
      "cell_type": "markdown",
      "source": [
        "Remove unnessary columns"
      ],
      "metadata": {
        "id": "9tiCNesrUsq_"
      }
    },
    {
      "cell_type": "code",
      "source": [
        "sjr_df.drop(['URL'], axis=1, inplace=True)"
      ],
      "metadata": {
        "id": "BkascaG_1m0e"
      },
      "execution_count": null,
      "outputs": []
    },
    {
      "cell_type": "markdown",
      "source": [
        "Rename Columns"
      ],
      "metadata": {
        "id": "pjIw8sF7UxfE"
      }
    },
    {
      "cell_type": "code",
      "source": [
        "sjr_df.rename(columns={'Rank': 'Best Subject Rank', 'Subject Area': 'Best Subject Area'}, inplace=True)"
      ],
      "metadata": {
        "id": "H0iLTuV02d98"
      },
      "execution_count": null,
      "outputs": []
    },
    {
      "cell_type": "markdown",
      "source": [
        "Change column data type"
      ],
      "metadata": {
        "id": "1JeyPuV8uaac"
      }
    },
    {
      "cell_type": "code",
      "source": [
        "sjr_df['Best Quartile'] = sjr_df['Best Quartile'].astype('category')"
      ],
      "metadata": {
        "id": "Qt4-83RaJ50-"
      },
      "execution_count": null,
      "outputs": []
    },
    {
      "cell_type": "markdown",
      "source": [
        "Ordered category for Quartiles"
      ],
      "metadata": {
        "id": "boPDUd8Fuj5A"
      }
    },
    {
      "cell_type": "code",
      "source": [
        "sjr_df['Best Quartile'] = sjr_df['Best Quartile'].cat.set_categories(['Q1', 'Q2', 'Q3', 'Q4'], ordered=True)"
      ],
      "metadata": {
        "id": "tgpQKegqMReP"
      },
      "execution_count": null,
      "outputs": []
    },
    {
      "cell_type": "markdown",
      "source": [
        "Sort the data"
      ],
      "metadata": {
        "id": "R-H6Jh2SWH5N"
      }
    },
    {
      "cell_type": "code",
      "source": [
        "sjr_df.sort_values(['SJR index', 'Best Quartile', 'Best Subject Rank'], ascending=[False, True, True], inplace=True)"
      ],
      "metadata": {
        "id": "zaIxnXPPLqlL"
      },
      "execution_count": null,
      "outputs": []
    },
    {
      "cell_type": "markdown",
      "source": [
        "Remove `Title` duplicates"
      ],
      "metadata": {
        "id": "IVbPb2IQU4Fn"
      }
    },
    {
      "cell_type": "code",
      "source": [
        "sjr_df['Title'].duplicated().sum()"
      ],
      "metadata": {
        "id": "m1ZfJixP0w8I"
      },
      "execution_count": null,
      "outputs": []
    },
    {
      "cell_type": "code",
      "source": [
        "sjr_df = sjr_df.drop_duplicates('Title')\n",
        "sjr_df.reset_index(drop=True, inplace=True)"
      ],
      "metadata": {
        "id": "1IwkbPdLO7VT"
      },
      "execution_count": null,
      "outputs": []
    },
    {
      "cell_type": "markdown",
      "source": [
        "Add an `Overall Rank` based on the sorted index"
      ],
      "metadata": {
        "id": "_AcisW8hagom"
      }
    },
    {
      "cell_type": "code",
      "source": [
        "sjr_df[\"Overall Rank\"] = sjr_df.index + 1"
      ],
      "metadata": {
        "id": "16yodJjCagxu"
      },
      "execution_count": null,
      "outputs": []
    },
    {
      "cell_type": "code",
      "source": [
        "sjr_df['Title Cap'] = sjr_df['Title'].apply(lambda x: x.upper())"
      ],
      "metadata": {
        "id": "mzXVel0ra6sF"
      },
      "execution_count": null,
      "outputs": []
    },
    {
      "cell_type": "markdown",
      "source": [
        "### WoS Data Transform"
      ],
      "metadata": {
        "id": "yZh4oopbqIuY"
      }
    },
    {
      "cell_type": "code",
      "source": [
        "wos_df = pd.read_csv(\"/content/wos_master_journal_list.csv\")\n",
        "wos_df"
      ],
      "metadata": {
        "id": "v1QTuvUwR12h"
      },
      "execution_count": null,
      "outputs": []
    },
    {
      "cell_type": "markdown",
      "source": [
        "Remove duplicates and null values"
      ],
      "metadata": {
        "id": "d1REUFIwT6g0"
      }
    },
    {
      "cell_type": "code",
      "source": [
        "wos_df.isnull().sum()"
      ],
      "metadata": {
        "id": "UK6CvoEsqQf4"
      },
      "execution_count": null,
      "outputs": []
    },
    {
      "cell_type": "code",
      "source": [
        "wos_df.dropna(inplace=True)"
      ],
      "metadata": {
        "id": "d63tfL-tr6Xf"
      },
      "execution_count": null,
      "outputs": []
    },
    {
      "cell_type": "code",
      "source": [
        "wos_df.duplicated().sum()"
      ],
      "metadata": {
        "id": "WRUR7MrMqlPI"
      },
      "execution_count": null,
      "outputs": []
    },
    {
      "cell_type": "markdown",
      "source": [
        "Merge SJR and WoS data based on the `Publisher` column"
      ],
      "metadata": {
        "id": "sc_1-cofZQ78"
      }
    },
    {
      "cell_type": "code",
      "source": [
        "wos_df.rename(columns={'Title': 'Title Cap'}, inplace=True)"
      ],
      "metadata": {
        "id": "uj7T0klAdjx-"
      },
      "execution_count": null,
      "outputs": []
    },
    {
      "cell_type": "code",
      "source": [
        "sjr_df = sjr_df.merge(wos_df, how='left', on='Title Cap')"
      ],
      "metadata": {
        "id": "hbODqgh1D5FR"
      },
      "execution_count": null,
      "outputs": []
    },
    {
      "cell_type": "markdown",
      "source": [
        "Drop unnecessary columns"
      ],
      "metadata": {
        "id": "RW2HC__FUXZB"
      }
    },
    {
      "cell_type": "code",
      "source": [
        "sjr_df.drop(['Address'], axis=1, inplace=True)"
      ],
      "metadata": {
        "id": "5Fl_tJDnel9U"
      },
      "execution_count": null,
      "outputs": []
    },
    {
      "cell_type": "markdown",
      "source": [
        "Apply data transformations"
      ],
      "metadata": {
        "id": "74gH69qaUiGy"
      }
    },
    {
      "cell_type": "code",
      "source": [
        "sjr_df['Publisher'] = sjr_df['Publisher'].apply(lambda x: str(x).title())"
      ],
      "metadata": {
        "id": "UaW6GqKfqx1K"
      },
      "execution_count": null,
      "outputs": []
    },
    {
      "cell_type": "markdown",
      "source": [
        "### Scopus Data Transform"
      ],
      "metadata": {
        "id": "WN8yrfglv8rj"
      }
    },
    {
      "cell_type": "code",
      "source": [
        "scopus_df = pd.read_excel(\"/content/scopus_citescore_2022.xlsx\", sheet_name=0)"
      ],
      "metadata": {
        "id": "ZEbswgUVv8dE"
      },
      "execution_count": null,
      "outputs": []
    },
    {
      "cell_type": "code",
      "source": [
        "scopus_df.columns"
      ],
      "metadata": {
        "id": "c1ooDvuASAj9"
      },
      "execution_count": null,
      "outputs": []
    },
    {
      "cell_type": "markdown",
      "source": [
        "Rename columns"
      ],
      "metadata": {
        "id": "WRuZGvB-U4oA"
      }
    },
    {
      "cell_type": "code",
      "source": [
        "scopus_df.rename(columns={'2022\\nCiteScore': 'CiteScore',\n",
        "       'Source Title (Medline-sourced journals are indicated in Green)': 'Title Cap',\n",
        "       'Active or Inactive': 'Active Status',\n",
        "       'Article language in source (three-letter ISO language codes)': 'ISO Language Codes',\n",
        "       'Articles in Press included?': 'Articles in Press',\n",
        "       'All Science Journal Classification Codes (ASJC)': 'ASJC Codes',\n",
        "       'Top level:\\n\\nLife Sciences': 'Top level:Life Sciences',\n",
        "       'Top level:\\n\\nSocial Sciences': 'Top level:Social Sciences',\n",
        "       'Top level:\\n\\nPhysical Sciences': 'Top level:Physical Sciences',\n",
        "       'Top level:\\n\\nHealth Sciences': 'Top level:Health Sciences',\n",
        "       '1000 \\nGeneral': 'General',\n",
        "       '1100\\nAgricultural and Biological Sciences': 'Agricultural and Biological Sciences',\n",
        "       '1200\\nArts and Humanities': 'Arts and Humanities',\n",
        "       '1300\\nBiochemistry, Genetics and Molecular Biology': 'Biochemistry, Genetics and Molecular Biology',\n",
        "       '1400\\nBusiness, Management and Accounting': 'Business, Management and Accounting',\n",
        "       '1500\\nChemical Engineering': 'Chemical Engineering',\n",
        "       '1600\\nChemistry': 'Chemistry',\n",
        "       '1700\\nComputer Science': 'Computer Science',\n",
        "       '1800\\nDecision Sciences': 'Decision Sciences',\n",
        "       '1900\\nEarth and Planetary Sciences': 'Earth and Planetary Sciences',\n",
        "       '2000\\nEconomics, Econometrics and Finance': 'Economics, Econometrics and Finance',\n",
        "       '2100\\nEnergy': 'Energy',\n",
        "       '2200\\nEngineering': 'Engineering',\n",
        "       '2300\\nEnvironmental Science': 'Environmental Science',\n",
        "       '2400\\nImmunology and Microbiology': 'Immunology and Microbiology',\n",
        "       '2500\\nMaterials Science': 'Materials Science',\n",
        "       '2600\\nMathematics': 'Mathematics',\n",
        "       '2700\\nMedicine': 'Medicine',\n",
        "       '2800\\nNeuroscience': 'Neuroscience',\n",
        "       '2900\\nNursing': 'Nursing',\n",
        "       '3000\\nPharmacology, Toxicology and Pharmaceutics': 'Pharmacology, Toxicology and Pharmaceutics',\n",
        "       '3100\\nPhysics and Astronomy': 'Physics and Astronomy',\n",
        "       '3200\\nPsychology': 'Psychology',\n",
        "       '3300\\nSocial Sciences': 'Social Sciences',\n",
        "       '3400\\nVeterinary': 'Veterinary',\n",
        "       '3500\\nDentistry': 'Dentistry',\n",
        "       '3600\\nHealth Professions': 'Health Professions',}, inplace=True)"
      ],
      "metadata": {
        "id": "IhjvQVcF1xsy"
      },
      "execution_count": null,
      "outputs": []
    },
    {
      "cell_type": "markdown",
      "source": [
        "Remove duplicates and null values and unecessary columns"
      ],
      "metadata": {
        "id": "6iIHqQixVA2J"
      }
    },
    {
      "cell_type": "code",
      "source": [
        "scopus_df.duplicated().sum()"
      ],
      "metadata": {
        "id": "oCRwVxH2gRQR"
      },
      "execution_count": null,
      "outputs": []
    },
    {
      "cell_type": "code",
      "source": [
        "scopus_df['Title Cap'].duplicated().sum()"
      ],
      "metadata": {
        "id": "D7K0paRyfz-Q"
      },
      "execution_count": null,
      "outputs": []
    },
    {
      "cell_type": "code",
      "source": [
        "scopus_df = scopus_df.drop_duplicates(subset=['Title Cap'])"
      ],
      "metadata": {
        "id": "4-P4CHExgPG_"
      },
      "execution_count": null,
      "outputs": []
    },
    {
      "cell_type": "code",
      "source": [
        "scopus_df.isnull().sum()"
      ],
      "metadata": {
        "id": "BKtV-x_pVfE4"
      },
      "execution_count": null,
      "outputs": []
    },
    {
      "cell_type": "code",
      "source": [
        "scopus_df = scopus_df[scopus_df['Titles discontinued by Scopus due to quality issues'].isnull()]"
      ],
      "metadata": {
        "id": "3fqEywAmy-Qw"
      },
      "execution_count": null,
      "outputs": []
    },
    {
      "cell_type": "code",
      "source": [
        "scopus_df['Titles discontinued by Scopus due to quality issues'].notnull().sum()"
      ],
      "metadata": {
        "id": "kqEqIZ4Ly-OX"
      },
      "execution_count": null,
      "outputs": []
    },
    {
      "cell_type": "code",
      "source": [
        "scopus_df.drop(['Sourcerecord ID',\n",
        "       'Print-ISSN', 'E-ISSN',\n",
        "       'Titles discontinued by Scopus due to quality issues',\n",
        "       'Medline-sourced Title? (see more info under separate tab)',\n",
        "       'Open Access status',\n",
        "       'Added to list May 2023', 'Source Type', 'Title history indication',\n",
        "       'Related title to title history indication', 'Other related title 1',\n",
        "       'Other related title 2', 'Other related title 3', 'Publisher\\'s Name',\n",
        "       'Publisher imprints grouped to main Publisher'], axis=1, inplace=True)"
      ],
      "metadata": {
        "id": "L3GDWmjMfB94"
      },
      "execution_count": null,
      "outputs": []
    },
    {
      "cell_type": "markdown",
      "source": [
        "Apply data transformations"
      ],
      "metadata": {
        "id": "0DiUVB8xVxKc"
      }
    },
    {
      "cell_type": "code",
      "source": [
        "scopus_df['Coverage'] = scopus_df['Coverage'].apply(lambda x: str(x).split(',')[-1].split('-')[0].strip())"
      ],
      "metadata": {
        "id": "nWqMK5gDBMv7"
      },
      "execution_count": null,
      "outputs": []
    },
    {
      "cell_type": "code",
      "source": [
        "scopus_df['ASJC Codes'] = scopus_df['ASJC Codes'].apply(lambda x: x.split(';'))"
      ],
      "metadata": {
        "id": "bHhT3ESq_8eI"
      },
      "execution_count": null,
      "outputs": []
    },
    {
      "cell_type": "code",
      "source": [
        "scopus_df['Active Status'] = scopus_df['Active Status'].apply(lambda x: True if x == \"Active\" else False)"
      ],
      "metadata": {
        "id": "rsMh4ZgdprqM"
      },
      "execution_count": null,
      "outputs": []
    },
    {
      "cell_type": "markdown",
      "source": [
        "Merge the Scopus data with the rest"
      ],
      "metadata": {
        "id": "SW-w5Y2PV1mq"
      }
    },
    {
      "cell_type": "code",
      "source": [
        "scopus_df['Title Cap'] = scopus_df['Title Cap'].apply(lambda x: x.upper())"
      ],
      "metadata": {
        "id": "7fBG6DW0fZ8p"
      },
      "execution_count": null,
      "outputs": []
    },
    {
      "cell_type": "code",
      "source": [
        "sjr_df = sjr_df.merge(scopus_df, how='left', on='Title Cap')"
      ],
      "metadata": {
        "id": "Ce9eJLDikltr"
      },
      "execution_count": null,
      "outputs": []
    },
    {
      "cell_type": "code",
      "source": [
        "sjr_df.drop(['Title Cap'], axis=1, inplace=True)"
      ],
      "metadata": {
        "id": "lgj7rST8sSaB"
      },
      "execution_count": null,
      "outputs": []
    },
    {
      "cell_type": "markdown",
      "source": [
        "### Final Data"
      ],
      "metadata": {
        "id": "dx3BGmSwaHQy"
      }
    },
    {
      "cell_type": "code",
      "source": [
        "sjr_df.info()"
      ],
      "metadata": {
        "id": "6NmXgn-5qNw2"
      },
      "execution_count": null,
      "outputs": []
    },
    {
      "cell_type": "code",
      "source": [
        "sjr_df.head(6)"
      ],
      "metadata": {
        "id": "24qpxOFZ4G7V"
      },
      "execution_count": null,
      "outputs": []
    },
    {
      "cell_type": "markdown",
      "source": [
        "Save the data"
      ],
      "metadata": {
        "id": "-clB5F8u43AQ"
      }
    },
    {
      "cell_type": "code",
      "source": [
        "sjr_df.to_csv(\"combined_journal_ranking_data.csv\")"
      ],
      "metadata": {
        "id": "PL1f9VTQ1aGr"
      },
      "execution_count": null,
      "outputs": []
    }
  ]
}